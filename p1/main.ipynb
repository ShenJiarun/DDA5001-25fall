{
 "cells": [
  {
   "cell_type": "code",
   "execution_count": null,
   "metadata": {},
   "outputs": [],
   "source": [
    "# NOTE: Make sure you have added the dataset into the notebook\n",
    "# Move the code to working directory\n",
    "!mkdir /kaggle/working/src\n",
    "!cp -r /kaggle/input/225001/* /kaggle/working/src\n",
    "\n",
    "# install necessary packages, as Kaggle will clear installed packages when restart the kernel.\n",
    "%pip install torch numpy transformers datasets tiktoken wandb tqdm\n",
    "\n",
    "%cd /kaggle/working/src\n",
    "!ls"
   ]
  },
  {
   "cell_type": "code",
   "execution_count": null,
   "metadata": {
    "execution": {
     "iopub.execute_input": "2023-11-13T03:17:13.48035Z",
     "iopub.status.busy": "2023-11-13T03:17:13.47988Z",
     "iopub.status.idle": "2023-11-13T03:18:49.078171Z",
     "shell.execute_reply": "2023-11-13T03:18:49.076972Z",
     "shell.execute_reply.started": "2023-11-13T03:17:13.480309Z"
    },
    "trusted": true
   },
   "outputs": [],
   "source": [
    "# NOTE: Make sure you turn on the GPU when running the script\n",
    "# TODO: Change this line to the script you want to execute\n",
    "# !python <script_name.py> \n",
    "\n",
    "!python data/shakespeare_char/prepare.py # prepare data\n",
    "!python train.py config/train_shakespeare_char.py # training"
   ]
  }
 ],
 "metadata": {
  "kernelspec": {
   "display_name": "Python 3",
   "language": "python",
   "name": "python3"
  },
  "language_info": {
   "codemirror_mode": {
    "name": "ipython",
    "version": 3
   },
   "file_extension": ".py",
   "mimetype": "text/x-python",
   "name": "python",
   "nbconvert_exporter": "python",
   "pygments_lexer": "ipython3",
   "version": "3.6.4"
  }
 },
 "nbformat": 4,
 "nbformat_minor": 4
}
